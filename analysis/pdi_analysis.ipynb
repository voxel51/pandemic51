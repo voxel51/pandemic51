{
 "cells": [
  {
   "cell_type": "markdown",
   "metadata": {},
   "source": [
    "# PDI Analysis\n",
    "\n",
    "This script investigates the output of our live stream detections in order to gain useful insights.\n",
    "The goal is to create a \"Physical Distancing Index\" (`PDI`) that shows the trends and changes at\n",
    "a camera feed while removing noise and perturbations from unwanted effects.\n",
    "\n",
    "In this directory is a CSV file containing historical data for 7 cams."
   ]
  },
  {
   "cell_type": "code",
   "execution_count": null,
   "metadata": {},
   "outputs": [],
   "source": [
    "import matplotlib.pyplot as plt\n",
    "import pandas as pd\n",
    "\n",
    "from pandas.plotting import register_matplotlib_converters\n",
    "register_matplotlib_converters()"
   ]
  },
  {
   "cell_type": "code",
   "execution_count": null,
   "metadata": {},
   "outputs": [],
   "source": [
    "data = pd.read_csv(\"counts.csv\")\n",
    "\n",
    "data.tail(10)"
   ]
  },
  {
   "cell_type": "code",
   "execution_count": null,
   "metadata": {},
   "outputs": [],
   "source": [
    "data_dict = {\n",
    "    stream_name: {\n",
    "        \"timestamp\": data[data[\"stream_name\"]==stream_name][\"timestamp\"],\n",
    "        \"count\": data[data[\"stream_name\"]==stream_name][\"count\"]\n",
    "    } for stream_name in set(data[\"stream_name\"])\n",
    "}\n",
    "\n",
    "print(list(data_dict.keys()))"
   ]
  },
  {
   "cell_type": "code",
   "execution_count": null,
   "metadata": {},
   "outputs": [],
   "source": [
    "plt.figure(figsize=(20, 10))\n",
    "\n",
    "for stream_name, d in data_dict.items():\n",
    "    timestamps, counts = d[\"timestamp\"], d[\"count\"]\n",
    "    datetimes = pd.to_datetime(timestamps, unit='s')\n",
    "    \n",
    "    plt.scatter(datetimes, counts, label=stream_name)\n",
    "plt.xlabel(\"data\")\n",
    "plt.ylabel(\"number of detected objects\")\n",
    "plt.xlim([pd.Timestamp('2020-02-01'), pd.Timestamp('2020-04-03')])\n",
    "plt.ylim([0, 100])\n",
    "plt.legend();"
   ]
  },
  {
   "cell_type": "code",
   "execution_count": null,
   "metadata": {},
   "outputs": [],
   "source": []
  }
 ],
 "metadata": {
  "kernelspec": {
   "display_name": "theta3",
   "language": "python",
   "name": "theta3"
  },
  "language_info": {
   "codemirror_mode": {
    "name": "ipython",
    "version": 3
   },
   "file_extension": ".py",
   "mimetype": "text/x-python",
   "name": "python",
   "nbconvert_exporter": "python",
   "pygments_lexer": "ipython3",
   "version": "3.6.8"
  }
 },
 "nbformat": 4,
 "nbformat_minor": 4
}
