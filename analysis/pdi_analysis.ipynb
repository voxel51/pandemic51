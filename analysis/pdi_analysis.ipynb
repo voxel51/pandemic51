{
 "cells": [
  {
   "cell_type": "markdown",
   "metadata": {},
   "source": [
    "# PDI Analysis\n",
    "\n",
    "This script investigates the output of our live stream detections in order to gain useful insights.\n",
    "The goal is to create a \"Physical Distancing Index\" (`PDI`) that shows the trends and changes at\n",
    "a camera feed while removing noise and perturbations from unwanted effects.\n",
    "\n",
    "In this directory is a CSV file containing historical data for 7 cams."
   ]
  },
  {
   "cell_type": "code",
   "execution_count": null,
   "metadata": {},
   "outputs": [],
   "source": [
    "import matplotlib.pyplot as plt\n",
    "import numpy as np\n",
    "import pandas as pd\n",
    "\n",
    "from pandas.plotting import register_matplotlib_converters\n",
    "register_matplotlib_converters()"
   ]
  },
  {
   "cell_type": "code",
   "execution_count": null,
   "metadata": {},
   "outputs": [],
   "source": [
    "data = pd.read_csv(\"counts.csv\")\n",
    "\n",
    "data.tail(10)"
   ]
  },
  {
   "cell_type": "code",
   "execution_count": null,
   "metadata": {},
   "outputs": [],
   "source": [
    "# TODO\n",
    "data = data[(data.stream_name != \"new_orleans\") | (data.timestamp < 1585500000)]"
   ]
  },
  {
   "cell_type": "code",
   "execution_count": null,
   "metadata": {},
   "outputs": [],
   "source": [
    "data_dict = {\n",
    "    stream_name: {\n",
    "        \"timestamp\": data[data[\"stream_name\"]==stream_name][\"timestamp\"],\n",
    "        \"count\": data[data[\"stream_name\"]==stream_name][\"count\"]\n",
    "    } for stream_name in set(data[\"stream_name\"])\n",
    "}\n",
    "\n",
    "print(list(data_dict.keys()))"
   ]
  },
  {
   "cell_type": "code",
   "execution_count": null,
   "metadata": {},
   "outputs": [],
   "source": [
    "plt.figure(figsize=(18, 7))\n",
    "for stream_name, d in data_dict.items():\n",
    "    timestamps, counts = d[\"timestamp\"], d[\"count\"]\n",
    "    datetimes = pd.to_datetime(timestamps, unit='s')\n",
    "    plt.scatter(datetimes, counts, label=stream_name, alpha=0.7)\n",
    "plt.xlabel(\"data\")\n",
    "plt.ylabel(\"object count\")\n",
    "plt.xlim([pd.Timestamp('2020-02-01'), pd.Timestamp('2020-04-03')])\n",
    "plt.ylim([0, 100])\n",
    "plt.title(\"Detected Object Count VS Time for Live Streams Cameras\")\n",
    "plt.legend();"
   ]
  },
  {
   "cell_type": "code",
   "execution_count": null,
   "metadata": {},
   "outputs": [],
   "source": [
    "def plot_pdi(data_dict, pdi_func):\n",
    "    plt.figure(figsize=(18, 7))\n",
    "    for stream_name, d in data_dict.items():\n",
    "        timestamps, counts = d[\"timestamp\"], d[\"count\"]\n",
    "        datetimes = pd.to_datetime(timestamps, unit='s')\n",
    "        datetimes, pdis = pdi_func(datetimes, counts)\n",
    "        normalized_pdis = np.array(pdis) * 100 / np.max(pdis)\n",
    "        plt.plot(datetimes, normalized_pdis, label=stream_name)\n",
    "    plt.xlabel(\"data\")\n",
    "    plt.ylabel(\"number of detected objects\")\n",
    "    plt.xlim([pd.Timestamp('2020-02-01'), pd.Timestamp('2020-04-03')])\n",
    "    plt.ylim([0, 100])\n",
    "    plt.legend()"
   ]
  },
  {
   "cell_type": "code",
   "execution_count": null,
   "metadata": {},
   "outputs": [],
   "source": [
    "def create_pdi_func(window_days, avg_fcn):\n",
    "    def pdi_func(datetimes, counts):\n",
    "        pdis = np.zeros(len(counts))\n",
    "\n",
    "        for i, time in enumerate(datetimes):\n",
    "            # get all counts within the temporal window\n",
    "            start_time = time - pd.Timedelta(days=window_days)\n",
    "            window_counts = counts[(start_time <= datetimes) & (datetimes <= time)]\n",
    "\n",
    "            # average over this window\n",
    "            pdis[i] = avg_fcn(window_counts)\n",
    "\n",
    "        return datetimes, pdis\n",
    "\n",
    "    return pdi_func"
   ]
  },
  {
   "cell_type": "code",
   "execution_count": null,
   "metadata": {},
   "outputs": [],
   "source": [
    "# number of days to average counts over\n",
    "WINDOW_DAYS = 1\n",
    "\n",
    "# a function that averages the counts within a window\n",
    "AVG_FCN = np.mean\n",
    "\n",
    "pdi_func_v1 = create_pdi_func(WINDOW_DAYS, AVG_FCN)\n",
    "\n",
    "plot_pdi(data_dict, pdi_func_v1)"
   ]
  },
  {
   "cell_type": "code",
   "execution_count": null,
   "metadata": {},
   "outputs": [],
   "source": [
    "# number of days to average counts over\n",
    "WINDOW_DAYS = 3\n",
    "\n",
    "# p-norm value for normalizing (LP=2 -> euclidean norm)\n",
    "LP = 2\n",
    "\n",
    "# a function that averages the counts within a window\n",
    "AVG_FCN = lambda x: np.linalg.norm(x, ord=LP) / (len(x) ** (1 / LP)) \n",
    "\n",
    "pdi_func_v2 = create_pdi_func(WINDOW_DAYS, AVG_FCN)\n",
    "\n",
    "plot_pdi(data_dict, pdi_func_v2)"
   ]
  },
  {
   "cell_type": "code",
   "execution_count": null,
   "metadata": {},
   "outputs": [],
   "source": [
    "SMOOTHING_WIDTH = 40\n",
    "\n",
    "def pdi_func_v3(datetimes, counts):\n",
    "    datetimes, pdis = pdi_func_v2(datetimes, counts)\n",
    "    \n",
    "    if SMOOTHING_WIDTH:\n",
    "        kernel_size = min(SMOOTHING_WIDTH, len(pdis))\n",
    "        kernel = np.ones(kernel_size) / kernel_size\n",
    "        pdis = list(np.convolve(pdis, kernel, mode=\"same\"))\n",
    "\n",
    "    return datetimes, pdis\n",
    "\n",
    "plot_pdi(data_dict, pdi_func_v3)"
   ]
  },
  {
   "cell_type": "code",
   "execution_count": null,
   "metadata": {},
   "outputs": [],
   "source": []
  }
 ],
 "metadata": {
  "kernelspec": {
   "display_name": "theta3",
   "language": "python",
   "name": "theta3"
  },
  "language_info": {
   "codemirror_mode": {
    "name": "ipython",
    "version": 3
   },
   "file_extension": ".py",
   "mimetype": "text/x-python",
   "name": "python",
   "nbconvert_exporter": "python",
   "pygments_lexer": "ipython3",
   "version": "3.6.8"
  }
 },
 "nbformat": 4,
 "nbformat_minor": 4
}
